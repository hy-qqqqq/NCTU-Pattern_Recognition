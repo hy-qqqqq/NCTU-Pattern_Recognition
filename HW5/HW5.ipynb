{
  "cells": [
    {
      "cell_type": "code",
      "execution_count": 16,
      "metadata": {
        "id": "Jn0tkowMHTOH"
      },
      "outputs": [],
      "source": [
        "import os\n",
        "import numpy as np\n",
        "import tensorflow as tf\n",
        "import keras\n",
        "from keras.models import Sequential\n",
        "from keras.layers import Dense, Flatten, Input\n",
        "from keras.preprocessing.image import ImageDataGenerator\n",
        "from tensorflow.keras.applications.resnet50 import ResNet50\n",
        "from sklearn.metrics import accuracy_score\n",
        "from sklearn.model_selection import train_test_split"
      ]
    },
    {
      "cell_type": "markdown",
      "metadata": {
        "id": "Z_mwYS_NHTOK"
      },
      "source": [
        "## Download dataset \n",
        "https://drive.google.com/drive/folders/1vI8Bkk5DojitLNkpz-UT30jOEay0XXon?usp=sharing"
      ]
    },
    {
      "cell_type": "markdown",
      "metadata": {
        "id": "r9_T13aMHTOL"
      },
      "source": [
        "## Load data"
      ]
    },
    {
      "cell_type": "code",
      "execution_count": 17,
      "metadata": {
        "colab": {
          "base_uri": "https://localhost:8080/"
        },
        "id": "0g6Bdd4a2zFN",
        "outputId": "2a0342c1-acf9-4a65-d00f-c94c42220d52"
      },
      "outputs": [
        {
          "name": "stdout",
          "output_type": "stream",
          "text": [
            "Drive already mounted at /content/drive; to attempt to forcibly remount, call drive.mount(\"/content/drive\", force_remount=True).\n"
          ]
        }
      ],
      "source": [
        "#from google.colab import drive\n",
        "#drive.mount('/content/drive')"
      ]
    },
    {
      "cell_type": "code",
      "execution_count": 18,
      "metadata": {
        "colab": {
          "base_uri": "https://localhost:8080/"
        },
        "id": "CwHqvbnTHTOM",
        "outputId": "3de705a0-e52b-4c53-c5b2-9d32f8a84dc7"
      },
      "outputs": [
        {
          "name": "stdout",
          "output_type": "stream",
          "text": [
            "50000 train samples\n",
            "10000 test samples\n"
          ]
        }
      ],
      "source": [
        "\"\"\"path = '/content/drive/MyDrive/hw5/'\n",
        "x_train = np.load(path+\"x_train.npy\")\n",
        "y_train = np.load(path+\"y_train.npy\")\n",
        "x_test = np.load(path+\"x_test.npy\")\n",
        "y_test = np.load(path+\"y_test.npy\")\"\"\"\n",
        "\n",
        "x_train = np.load(\"x_train.npy\")\n",
        "y_train = np.load(\"y_train.npy\")\n",
        "x_test = np.load(\"x_test.npy\")\n",
        "y_test = np.load(\"y_test.npy\")\n",
        "\n",
        "print(x_train.shape[0], 'train samples')\n",
        "print(x_test.shape[0], 'test samples')"
      ]
    },
    {
      "cell_type": "code",
      "execution_count": 19,
      "metadata": {
        "colab": {
          "base_uri": "https://localhost:8080/"
        },
        "id": "3i0B2x1ZHTON",
        "outputId": "64ddea79-dd78-4e94-98ab-bca450199da8"
      },
      "outputs": [
        {
          "name": "stdout",
          "output_type": "stream",
          "text": [
            "[0 1 2 3 4 5 6 7 8 9]\n"
          ]
        }
      ],
      "source": [
        "# It's a multi-class classification problem \n",
        "class_index = {'airplane': 0, 'automobile': 1, 'bird': 2, 'cat': 3, 'deer': 4,\n",
        "               'dog': 5, 'frog': 6,'horse': 7,'ship': 8, 'truck': 9}\n",
        "print(np.unique(y_train))"
      ]
    },
    {
      "cell_type": "markdown",
      "metadata": {
        "id": "8CtyrY2FHTOO"
      },
      "source": [
        "![image](https://img-blog.csdnimg.cn/20190623084800880.png?x-oss-process=image/watermark,type_ZmFuZ3poZW5naGVpdGk,shadow_10,text_aHR0cHM6Ly9ibG9nLmNzZG4ubmV0L3lqcDE5ODcxMDEz,size_16,color_FFFFFF,t_70)"
      ]
    },
    {
      "cell_type": "markdown",
      "metadata": {
        "id": "C7DCx5IJHTOO"
      },
      "source": [
        "## Data preprocess"
      ]
    },
    {
      "cell_type": "code",
      "execution_count": 20,
      "metadata": {
        "id": "-GvwL970HTOP"
      },
      "outputs": [],
      "source": [
        "# transform format\n",
        "x_train = x_train.astype('float32')\n",
        "x_test = x_test.astype('float32')\n",
        "x_train /= 255\n",
        "x_test /= 255\n",
        "\n",
        "# Convert class vectors to one-hot encoding (keras model requires one-hot label as inputs)\n",
        "num_classes = 10\n",
        "y_train = tf.keras.utils.to_categorical(y_train, num_classes)"
      ]
    },
    {
      "cell_type": "code",
      "execution_count": 21,
      "metadata": {
        "id": "8MI-Pga6hEW4"
      },
      "outputs": [],
      "source": [
        "# train test (validation) split\n",
        "x_train, x_val, y_train, y_val = train_test_split(x_train, y_train, test_size=0.2, random_state=2022)"
      ]
    },
    {
      "cell_type": "code",
      "execution_count": 22,
      "metadata": {
        "id": "zCcsGvT6ZMiX"
      },
      "outputs": [],
      "source": [
        "# This will do preprocessing and realtime data augmentation:\n",
        "datagen = ImageDataGenerator(\n",
        "    # set input mean to 0 over the dataset\n",
        "    featurewise_center=False,\n",
        "    # set each sample mean to 0\n",
        "    samplewise_center=False,\n",
        "    # divide inputs by std of dataset\n",
        "    featurewise_std_normalization=False,\n",
        "    # divide each input by its std\n",
        "    samplewise_std_normalization=False,\n",
        "    # apply ZCA whitening\n",
        "    zca_whitening=False,\n",
        "    # epsilon for ZCA whitening\n",
        "    zca_epsilon=1e-06,\n",
        "    # randomly rotate images in the range (deg 0 to 180)\n",
        "    rotation_range=0,\n",
        "    # randomly shift images horizontally\n",
        "    width_shift_range=0.1,\n",
        "    # randomly shift images vertically\n",
        "    height_shift_range=0.1,\n",
        "    # set range for random shear\n",
        "    shear_range=0.,\n",
        "    # set range for random zoom\n",
        "    zoom_range=0.,\n",
        "    # set range for random channel shifts\n",
        "    channel_shift_range=0.,\n",
        "    # set mode for filling points outside the input boundaries\n",
        "    fill_mode='nearest',\n",
        "    # value used for fill_mode = \"constant\"\n",
        "    cval=0.,\n",
        "    # randomly flip images\n",
        "    horizontal_flip=True,\n",
        "    # randomly flip images\n",
        "    vertical_flip=False,\n",
        "    # set rescaling factor (applied before any other transformation)\n",
        "    rescale=None,\n",
        "    # set function that will be applied on each input\n",
        "    preprocessing_function=None,\n",
        "    # image data format, either \"channels_first\" or \"channels_last\"\n",
        "    data_format=None,\n",
        "    # fraction of images reserved for validation (strictly between 0 and 1)\n",
        "    validation_split=0.0)\n",
        "\n",
        "datagen.fit(x_train)"
      ]
    },
    {
      "cell_type": "markdown",
      "metadata": {
        "id": "kzuvGcuzHTOQ"
      },
      "source": [
        "## Build model & training (Keras)"
      ]
    },
    {
      "cell_type": "code",
      "execution_count": 23,
      "metadata": {
        "colab": {
          "base_uri": "https://localhost:8080/"
        },
        "id": "L-rHFmg8KFCN",
        "outputId": "0456accb-8728-40f5-e787-cb239f55e3ea"
      },
      "outputs": [
        {
          "name": "stdout",
          "output_type": "stream",
          "text": [
            "Model: \"sequential_1\"\n",
            "_________________________________________________________________\n",
            " Layer (type)                Output Shape              Param #   \n",
            "=================================================================\n",
            " resnet50 (Functional)       (None, 2048)              23587712  \n",
            "                                                                 \n",
            " flatten_1 (Flatten)         (None, 2048)              0         \n",
            "                                                                 \n",
            " fc1 (Dense)                 (None, 512)               1049088   \n",
            "                                                                 \n",
            " fc2 (Dense)                 (None, 512)               262656    \n",
            "                                                                 \n",
            " prediction (Dense)          (None, 10)                5130      \n",
            "                                                                 \n",
            "=================================================================\n",
            "Total params: 24,904,586\n",
            "Trainable params: 24,851,466\n",
            "Non-trainable params: 53,120\n",
            "_________________________________________________________________\n"
          ]
        }
      ],
      "source": [
        "# build model with pretrained model (resnet50)\n",
        "model = keras.models.Sequential()\n",
        "model.add(Input(shape=(32, 32, 3), name='input'))\n",
        "model.add(ResNet50(weights='imagenet', include_top=False, pooling='max'))\n",
        "model.add(Flatten())\n",
        "model.add(Dense(512, activation='relu', name='fc1'))\n",
        "model.add(Dense(512, activation='relu', name='fc2'))\n",
        "model.add(Dense(10, activation='softmax', name='prediction'))\n",
        "model.summary()"
      ]
    },
    {
      "cell_type": "code",
      "execution_count": 24,
      "metadata": {
        "id": "z7cQl5QXSYOJ"
      },
      "outputs": [],
      "source": [
        "# initiate SGD optimizer\n",
        "opt = tf.keras.optimizers.SGD()\n",
        "# Compile the model with loss function and optimizer, and evaluate with accuracy\n",
        "model.compile(loss='categorical_crossentropy', optimizer=opt, metrics=['accuracy'])"
      ]
    },
    {
      "cell_type": "code",
      "execution_count": 25,
      "metadata": {
        "colab": {
          "base_uri": "https://localhost:8080/"
        },
        "id": "4ZPVKjnLUtvf",
        "outputId": "90c7227b-fe8d-4498-b249-074ebfb24e5a"
      },
      "outputs": [
        {
          "name": "stdout",
          "output_type": "stream",
          "text": [
            "Epoch 1/15\n",
            "625/625 [==============================] - 46s 66ms/step - loss: 1.3922 - accuracy: 0.5139 - val_loss: 3.6017 - val_accuracy: 0.1536\n",
            "Epoch 2/15\n",
            "625/625 [==============================] - 38s 60ms/step - loss: 0.9210 - accuracy: 0.6823 - val_loss: 0.8764 - val_accuracy: 0.6961\n",
            "Epoch 3/15\n",
            "625/625 [==============================] - 37s 60ms/step - loss: 0.7670 - accuracy: 0.7355 - val_loss: 0.7532 - val_accuracy: 0.7487\n",
            "Epoch 4/15\n",
            "625/625 [==============================] - 39s 62ms/step - loss: 0.6778 - accuracy: 0.7653 - val_loss: 0.6899 - val_accuracy: 0.7651\n",
            "Epoch 5/15\n",
            "625/625 [==============================] - 37s 60ms/step - loss: 0.6117 - accuracy: 0.7883 - val_loss: 0.6259 - val_accuracy: 0.7865\n",
            "Epoch 6/15\n",
            "625/625 [==============================] - 40s 64ms/step - loss: 0.5620 - accuracy: 0.8059 - val_loss: 0.6338 - val_accuracy: 0.7851\n",
            "Epoch 7/15\n",
            "625/625 [==============================] - 39s 62ms/step - loss: 0.5205 - accuracy: 0.8181 - val_loss: 0.6265 - val_accuracy: 0.7892\n",
            "Epoch 8/15\n",
            "625/625 [==============================] - 37s 59ms/step - loss: 0.4828 - accuracy: 0.8321 - val_loss: 0.5587 - val_accuracy: 0.8115\n",
            "Epoch 9/15\n",
            "625/625 [==============================] - 37s 59ms/step - loss: 0.4533 - accuracy: 0.8428 - val_loss: 0.5655 - val_accuracy: 0.8129\n",
            "Epoch 10/15\n",
            "625/625 [==============================] - 37s 59ms/step - loss: 0.4190 - accuracy: 0.8555 - val_loss: 0.5915 - val_accuracy: 0.8075\n",
            "Epoch 11/15\n",
            "625/625 [==============================] - 39s 62ms/step - loss: 0.3937 - accuracy: 0.8627 - val_loss: 0.5591 - val_accuracy: 0.8170\n",
            "Epoch 12/15\n",
            "625/625 [==============================] - 39s 62ms/step - loss: 0.3697 - accuracy: 0.8709 - val_loss: 0.5817 - val_accuracy: 0.8078\n",
            "Epoch 13/15\n",
            "625/625 [==============================] - 37s 60ms/step - loss: 0.3556 - accuracy: 0.8745 - val_loss: 0.5796 - val_accuracy: 0.8170\n",
            "Epoch 14/15\n",
            "625/625 [==============================] - 39s 62ms/step - loss: 0.3334 - accuracy: 0.8825 - val_loss: 0.5780 - val_accuracy: 0.8131\n",
            "Epoch 15/15\n",
            "625/625 [==============================] - 38s 61ms/step - loss: 0.3174 - accuracy: 0.8899 - val_loss: 0.5465 - val_accuracy: 0.8218\n"
          ]
        },
        {
          "data": {
            "text/plain": [
              "<keras.callbacks.History at 0x7fcb830640d0>"
            ]
          },
          "execution_count": 25,
          "metadata": {},
          "output_type": "execute_result"
        }
      ],
      "source": [
        "# Setup some hyperparameters\n",
        "batch_size = 64\n",
        "epochs = 15 # 20\n",
        "\n",
        "# Fit the data into model\n",
        "model.fit(datagen.flow(x_train, y_train, batch_size=batch_size),\n",
        "                  epochs=epochs, verbose=1, workers=4,\n",
        "                  validation_data=(x_val, y_val))"
      ]
    },
    {
      "cell_type": "code",
      "execution_count": 26,
      "metadata": {
        "id": "U7GB_U9S8yq4"
      },
      "outputs": [],
      "source": [
        "model.save('model.h5')"
      ]
    },
    {
      "cell_type": "markdown",
      "metadata": {
        "id": "qIrlRwPyHTOT"
      },
      "source": [
        "## DO NOT MODIFY CODE BELOW!\n",
        "**Please screen shot your results and post it on your report**"
      ]
    },
    {
      "cell_type": "code",
      "execution_count": 27,
      "metadata": {
        "id": "r0Q80g_vHTOT"
      },
      "outputs": [],
      "source": [
        "y_pred = model.predict(x_test) # 10000 samples, each sample with probaility of 10 classes\n",
        "y_pred = np.argmax(y_pred, axis=1) # argmax to find the predict class with highest probability."
      ]
    },
    {
      "cell_type": "code",
      "execution_count": 28,
      "metadata": {
        "id": "4jg6BBb7HTOU"
      },
      "outputs": [],
      "source": [
        "assert y_pred.shape == (10000,)"
      ]
    },
    {
      "cell_type": "code",
      "execution_count": 29,
      "metadata": {
        "colab": {
          "base_uri": "https://localhost:8080/"
        },
        "id": "L7luHJ53HTOU",
        "outputId": "276bc872-052d-487a-8209-3ada2c868086"
      },
      "outputs": [
        {
          "name": "stdout",
          "output_type": "stream",
          "text": [
            "Accuracy of my model on test set:  0.8242\n"
          ]
        }
      ],
      "source": [
        "#y_test = np.load(path+\"y_test.npy\")\n",
        "y_test = np.load(\"y_test.npy\")\n",
        "print(\"Accuracy of my model on test set: \", accuracy_score(y_test, y_pred))"
      ]
    }
  ],
  "metadata": {
    "accelerator": "GPU",
    "colab": {
      "collapsed_sections": [],
      "name": "彭酸雨的作業",
      "provenance": []
    },
    "kernelspec": {
      "display_name": "Python 3.8.5 ('base')",
      "language": "python",
      "name": "python3"
    },
    "language_info": {
      "codemirror_mode": {
        "name": "ipython",
        "version": 3
      },
      "file_extension": ".py",
      "mimetype": "text/x-python",
      "name": "python",
      "nbconvert_exporter": "python",
      "pygments_lexer": "ipython3",
      "version": "3.8.5"
    },
    "vscode": {
      "interpreter": {
        "hash": "82b57d754f8e248ed6c262eb624fc7f1bc584a57b79363e397e529ac5dfdd27e"
      }
    }
  },
  "nbformat": 4,
  "nbformat_minor": 0
}
