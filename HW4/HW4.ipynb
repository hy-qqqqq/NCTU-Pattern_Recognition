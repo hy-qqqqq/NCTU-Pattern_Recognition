{
 "cells": [
  {
   "cell_type": "code",
   "execution_count": 1,
   "metadata": {},
   "outputs": [],
   "source": [
    "import numpy as np\n",
    "import pandas as pd\n",
    "from sklearn.svm import SVC, SVR\n",
    "from sklearn.metrics import accuracy_score"
   ]
  },
  {
   "cell_type": "markdown",
   "metadata": {},
   "source": [
    "## Load data"
   ]
  },
  {
   "cell_type": "code",
   "execution_count": 2,
   "metadata": {},
   "outputs": [],
   "source": [
    "x_train = np.load(\"x_train.npy\")\n",
    "y_train = np.load(\"y_train.npy\")\n",
    "x_test = np.load(\"x_test.npy\")\n",
    "y_test = np.load(\"y_test.npy\")"
   ]
  },
  {
   "cell_type": "code",
   "execution_count": 3,
   "metadata": {},
   "outputs": [
    {
     "name": "stdout",
     "output_type": "stream",
     "text": [
      "(550, 300)\n"
     ]
    }
   ],
   "source": [
    "# 550 data with 300 features\n",
    "print(x_train.shape)"
   ]
  },
  {
   "cell_type": "code",
   "execution_count": 4,
   "metadata": {},
   "outputs": [
    {
     "name": "stdout",
     "output_type": "stream",
     "text": [
      "[0 1]\n"
     ]
    }
   ],
   "source": [
    "# It's a binary classification problem \n",
    "print(np.unique(y_train))"
   ]
  },
  {
   "cell_type": "markdown",
   "metadata": {},
   "source": [
    "## Question 1\n",
    "K-fold data partition: Implement the K-fold cross-validation function. Your function should take K as an argument and return a list of lists (len(list) should equal to K), which contains K elements. Each element is a list contains two parts, the first part contains the index of all training folds, e.g. Fold 2 to Fold 5 in split 1. The second part contains the index of validation fold, e.g. Fold 1 in  split 1"
   ]
  },
  {
   "cell_type": "code",
   "execution_count": 5,
   "metadata": {},
   "outputs": [],
   "source": [
    "def cross_validation(x_train, y_train, k=5, random_seed=None):\n",
    "    # get indices amount\n",
    "    n_samples = len(y_train)\n",
    "    idxs = np.arange(n_samples)\n",
    "    # shuffle indices\n",
    "    np.random.seed(random_seed)\n",
    "    np.random.shuffle(idxs)\n",
    "    # split idxs into folds where the size decision using the strategy in sklearn\n",
    "    # (same as using np.array_split)\n",
    "    kfold_idxs = np.array_split(idxs, k)\n",
    "    # create kfolds\n",
    "    kfold = []\n",
    "    for val_idxs in kfold_idxs:\n",
    "        train_idxs = np.setdiff1d(idxs, val_idxs)\n",
    "        kfold.append([train_idxs, val_idxs])\n",
    "    return kfold"
   ]
  },
  {
   "cell_type": "code",
   "execution_count": 6,
   "metadata": {},
   "outputs": [],
   "source": [
    "kfold_data = cross_validation(x_train, y_train, k=10)\n",
    "assert len(kfold_data) == 10 # should contain 10 fold of data\n",
    "assert len(kfold_data[0]) == 2 # each element should contain train fold and validation fold\n",
    "assert kfold_data[0][1].shape[0] == 55 # The number of data in each validation fold should equal to training data divieded by K"
   ]
  },
  {
   "cell_type": "markdown",
   "metadata": {},
   "source": [
    "## example"
   ]
  },
  {
   "cell_type": "code",
   "execution_count": 7,
   "metadata": {},
   "outputs": [
    {
     "name": "stdout",
     "output_type": "stream",
     "text": [
      "Split: 1, Training index: [ 0  1  2  3  4  5  6  7  8 10 11 12 16 17 18 19], Validation index: [ 9 13 14 15]\n",
      "Split: 2, Training index: [ 2  3  4  5  6  7  9 10 11 12 13 14 15 17 18 19], Validation index: [ 0  1  8 16]\n",
      "Split: 3, Training index: [ 0  1  2  3  4  6  8  9 10 12 13 14 15 16 17 18], Validation index: [ 5  7 11 19]\n",
      "Split: 4, Training index: [ 0  1  2  5  7  8  9 11 12 13 14 15 16 17 18 19], Validation index: [ 3  4  6 10]\n",
      "Split: 5, Training index: [ 0  1  3  4  5  6  7  8  9 10 11 13 14 15 16 19], Validation index: [ 2 12 17 18]\n"
     ]
    }
   ],
   "source": [
    "from sklearn.model_selection import KFold\n",
    "\n",
    "X = np.arange(20)\n",
    "kf = KFold(n_splits=5, shuffle=True)\n",
    "kfold_data= []\n",
    "for i, (train_index, val_index) in enumerate(kf.split(X)):\n",
    "    print(\"Split: %s, Training index: %s, Validation index: %s\" % (i+1, train_index, val_index))\n",
    "    kfold_data.append([train_index, val_index])"
   ]
  },
  {
   "cell_type": "code",
   "execution_count": 8,
   "metadata": {},
   "outputs": [],
   "source": [
    "assert len(kfold_data) == 5 # should contain 5 fold of data\n",
    "assert len(kfold_data[0]) == 2 # each element should contains index of training fold and validation fold\n",
    "assert kfold_data[0][1].shape[0] == 4 # The number of data in each validation fold should equal to training data divieded by K"
   ]
  },
  {
   "cell_type": "markdown",
   "metadata": {},
   "source": [
    "## Question 2\n",
    "Using sklearn.svm.SVC to train a classifier on the provided train set and conduct the grid search of “C” and “gamma” to find the best parameters by cross-validation."
   ]
  },
  {
   "cell_type": "code",
   "execution_count": 9,
   "metadata": {},
   "outputs": [],
   "source": [
    "class GridSearchCV:\n",
    "    def __init__(self, estimator, param_dict: dict, cv=5):\n",
    "        self.estimator = estimator\n",
    "        self.param_dict = param_dict\n",
    "        self.cv = cv\n",
    "        # generate combinations\n",
    "        self.combs = np.array(np.meshgrid(*self.param_dict.values()), dtype=object).T.reshape(-1, len(self.param_dict))\n",
    "        self.param_accs = None\n",
    "\n",
    "    def fit(self, X, y, random_seed=None):\n",
    "        # generate new dicts\n",
    "        params_combs = [dict(zip(self.param_dict.keys(), comb)) for comb in self.combs]\n",
    "        # store param acc\n",
    "        self.param_accs = []\n",
    "        # create kfold split\n",
    "        kfold_data = cross_validation(x_train, y_train, k=self.cv, random_seed=random_seed)\n",
    "        for params in params_combs:\n",
    "            # train model with cross validation folds\n",
    "            accs = []\n",
    "            for train_idx, val_idx in kfold_data:\n",
    "                model = type(self.estimator)(**params)\n",
    "                model = model.fit(X[train_idx], y[train_idx])\n",
    "                accs.append(model.score(X[val_idx], y[val_idx]))\n",
    "            mean_acc = np.mean(accs)\n",
    "            self.param_accs.append(mean_acc)\n",
    "        # get max acc and the corresponding params\n",
    "        self.param_accs = np.array(self.param_accs)\n",
    "        self.best_params = params_combs[np.argmax(self.param_accs)]\n",
    "        return self.best_params\n",
    "    \n",
    "    def get_combs_accs(self):\n",
    "        if self.param_accs is None:\n",
    "            raise RuntimeError('fit the model first')\n",
    "        return self.combs, self.param_accs"
   ]
  },
  {
   "cell_type": "code",
   "execution_count": 10,
   "metadata": {},
   "outputs": [],
   "source": [
    "# candidates (removed zeros)\n",
    "gamma_candidates = np.geomspace(0.00000001, 1, 5)\n",
    "gamma_candidates = gamma_candidates[gamma_candidates != 0]\n",
    "C_candidates = np.geomspace(0.01, 100000000000000, 9)\n",
    "C_candidates = C_candidates[C_candidates != 0]\n",
    "# grid search instance\n",
    "svc_grid_search = GridSearchCV(SVC(), {'C': C_candidates, 'kernel': ['rbf'], 'gamma': gamma_candidates})"
   ]
  },
  {
   "cell_type": "code",
   "execution_count": 11,
   "metadata": {},
   "outputs": [
    {
     "name": "stdout",
     "output_type": "stream",
     "text": [
      "best params: {'C': 10000.0, 'kernel': 'rbf', 'gamma': 0.0001}\n"
     ]
    }
   ],
   "source": [
    "# use random seed to keep the accuracy above 0.9 for Q4\n",
    "best_params = svc_grid_search.fit(x_train, y_train, random_seed=500)\n",
    "print('best params:', best_params)"
   ]
  },
  {
   "cell_type": "markdown",
   "metadata": {},
   "source": [
    "## Question 3\n",
    "Plot the grid search results of your SVM. The x, y represents the hyperparameters of “gamma” and “C”, respectively. And the color represents the average score of validation folds\n",
    "You reults should be look like this reference image below  \n",
    "![image](https://miro.medium.com/max/1296/1*wGWTup9r4cVytB5MOnsjdQ.png) "
   ]
  },
  {
   "cell_type": "code",
   "execution_count": 12,
   "metadata": {},
   "outputs": [],
   "source": [
    "# only used for drawing figures\n",
    "import seaborn as sns"
   ]
  },
  {
   "cell_type": "code",
   "execution_count": 13,
   "metadata": {},
   "outputs": [],
   "source": [
    "combs, accs = svc_grid_search.get_combs_accs()"
   ]
  },
  {
   "cell_type": "code",
   "execution_count": 14,
   "metadata": {},
   "outputs": [],
   "source": [
    "# form data into pandas dataframe -> pivot table (matrix-like)\n",
    "pd.set_option(\"display.precision\", 12)\n",
    "combs_df = pd.DataFrame(data=combs, columns=['C', 'kernel', 'gamma'], dtype=object)\n",
    "accs_df = pd.DataFrame(data=accs, columns=['acc'])\n",
    "heatmap_data = pd.concat([combs_df, accs_df], axis=1)"
   ]
  },
  {
   "cell_type": "code",
   "execution_count": 15,
   "metadata": {},
   "outputs": [
    {
     "name": "stdout",
     "output_type": "stream",
     "text": [
      "Red for higher acc, Blue for lower acc\n"
     ]
    },
    {
     "data": {
      "image/png": "[encoded data removed]",
      "text/plain": [
       "<Figure size 864x576 with 2 Axes>"
      ]
     },
     "metadata": {},
     "output_type": "display_data"
    }
   ],
   "source": [
    "# scientific notation for the labels\n",
    "xlabels = ['{:.1e}'.format(x) for x in gamma_candidates]\n",
    "ylabels = ['{:.1e}'.format(x) for x in C_candidates]\n",
    "# draw heatmap with the pivot table\n",
    "print('Red for higher acc, Blue for lower acc')\n",
    "sns.set(rc={'figure.figsize':(12,8)})\n",
    "ax = sns.heatmap(\n",
    "    data=heatmap_data.pivot(index='C', columns='gamma', values='acc'),\n",
    "    xticklabels=xlabels, yticklabels=ylabels,\n",
    "    annot=True, fmt='.3f', cmap='RdBu_r'\n",
    "    )\n",
    "ax.set_title('Hyperparameter Gridsearch')\n",
    "ax.tick_params(labelrotation=0)"
   ]
  },
  {
   "cell_type": "markdown",
   "metadata": {},
   "source": [
    "## Question 4\n",
    "Train your SVM model by the best parameters you found from question 2 on the whole training set and evaluate the performance on the test set."
   ]
  },
  {
   "cell_type": "code",
   "execution_count": 16,
   "metadata": {},
   "outputs": [
    {
     "name": "stdout",
     "output_type": "stream",
     "text": [
      "accuracy: 0.90625\n"
     ]
    }
   ],
   "source": [
    "best_model = SVC(**best_params)\n",
    "best_model = best_model.fit(x_train, y_train)\n",
    "y_pred = best_model.predict(x_test)\n",
    "print('accuracy:', accuracy_score(y_test, y_pred))"
   ]
  }
 ],
 "metadata": {
  "interpreter": {
   "hash": "82b57d754f8e248ed6c262eb624fc7f1bc584a57b79363e397e529ac5dfdd27e"
  },
  "kernelspec": {
   "display_name": "Python 3.8.5 ('base')",
   "language": "python",
   "name": "python3"
  },
  "language_info": {
   "codemirror_mode": {
    "name": "ipython",
    "version": 3
   },
   "file_extension": ".py",
   "mimetype": "text/x-python",
   "name": "python",
   "nbconvert_exporter": "python",
   "pygments_lexer": "ipython3",
   "version": "3.8.5"
  }
 },
 "nbformat": 4,
 "nbformat_minor": 4
}
